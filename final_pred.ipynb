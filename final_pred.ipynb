{
 "cells": [
  {
   "cell_type": "code",
   "execution_count": 1,
   "metadata": {
    "colab": {},
    "colab_type": "code",
    "id": "dxjToSx5Ehje"
   },
   "outputs": [],
   "source": [
    "import pickle\n",
    "import numpy as np\n",
    "from scipy import stats\n",
    "import pandas as pd\n",
    "import numpy as np\n",
    "from time import time\n",
    "from IPython.display import Image\n",
    "from tqdm.notebook import tqdm"
   ]
  },
  {
   "cell_type": "code",
   "execution_count": 2,
   "metadata": {
    "colab": {
     "base_uri": "https://localhost:8080/",
     "height": 118
    },
    "colab_type": "code",
    "id": "pfEgD87sEqe5",
    "outputId": "8875b8c8-c92b-47e4-d8eb-ab04a09a33b7"
   },
   "outputs": [
    {
     "name": "stdout",
     "output_type": "stream",
     "text": [
      "Go to this URL in a browser: https://accounts.google.com/o/oauth2/auth?client_id=947318989803-6bn6qk8qdgf4n4g3pfee6491hc0brc4i.apps.googleusercontent.com&redirect_uri=urn%3aietf%3awg%3aoauth%3a2.0%3aoob&response_type=code&scope=email%20https%3a%2f%2fwww.googleapis.com%2fauth%2fdocs.test%20https%3a%2f%2fwww.googleapis.com%2fauth%2fdrive%20https%3a%2f%2fwww.googleapis.com%2fauth%2fdrive.photos.readonly%20https%3a%2f%2fwww.googleapis.com%2fauth%2fpeopleapi.readonly\n",
      "\n",
      "Enter your authorization code:\n",
      "··········\n",
      "Mounted at /content/drive\n"
     ]
    }
   ],
   "source": [
    "from google.colab import drive\n",
    "drive.mount('/content/drive')"
   ]
  },
  {
   "cell_type": "code",
   "execution_count": 3,
   "metadata": {
    "colab": {},
    "colab_type": "code",
    "id": "hpMfGYpAEynt"
   },
   "outputs": [],
   "source": [
    "final_dataset = pd.read_csv('/content/drive/My Drive/PdM data/final_dataset.csv')"
   ]
  },
  {
   "cell_type": "code",
   "execution_count": 4,
   "metadata": {
    "colab": {
     "base_uri": "https://localhost:8080/",
     "height": 33
    },
    "colab_type": "code",
    "id": "L5n02F5apvpB",
    "outputId": "4d22f9e0-d6a7-48fa-d75c-4d4bfbe9a867"
   },
   "outputs": [
    {
     "data": {
      "text/plain": [
       "(291341, 34)"
      ]
     },
     "execution_count": 4,
     "metadata": {
      "tags": []
     },
     "output_type": "execute_result"
    }
   ],
   "source": [
    "final_dataset.shape"
   ]
  },
  {
   "cell_type": "code",
   "execution_count": 5,
   "metadata": {
    "colab": {
     "base_uri": "https://localhost:8080/",
     "height": 390
    },
    "colab_type": "code",
    "id": "wB3xujnf7wyi",
    "outputId": "b3695201-ac46-4373-a5c4-07eacfeefdf1"
   },
   "outputs": [
    {
     "data": {
      "text/html": [
       "<div>\n",
       "<style scoped>\n",
       "    .dataframe tbody tr th:only-of-type {\n",
       "        vertical-align: middle;\n",
       "    }\n",
       "\n",
       "    .dataframe tbody tr th {\n",
       "        vertical-align: top;\n",
       "    }\n",
       "\n",
       "    .dataframe thead th {\n",
       "        text-align: right;\n",
       "    }\n",
       "</style>\n",
       "<table border=\"1\" class=\"dataframe\">\n",
       "  <thead>\n",
       "    <tr style=\"text-align: right;\">\n",
       "      <th></th>\n",
       "      <th>Unnamed: 0</th>\n",
       "      <th>machineID</th>\n",
       "      <th>datetime</th>\n",
       "      <th>volt_3H_mean</th>\n",
       "      <th>rotate_3H_mean</th>\n",
       "      <th>pressure_3H_mean</th>\n",
       "      <th>vibration_3H_mean</th>\n",
       "      <th>volt_3H_std</th>\n",
       "      <th>rotate_3H_std</th>\n",
       "      <th>pressure_3H_std</th>\n",
       "      <th>vibration_3H_std</th>\n",
       "      <th>volt_24H_mean</th>\n",
       "      <th>rotate_24H_mean</th>\n",
       "      <th>pressure_24H_mean</th>\n",
       "      <th>vibration_24H_mean</th>\n",
       "      <th>volt_24H_std</th>\n",
       "      <th>rotate_24H_std</th>\n",
       "      <th>pressure_24H_std</th>\n",
       "      <th>vibration_24H_std</th>\n",
       "      <th>error1count</th>\n",
       "      <th>error2count</th>\n",
       "      <th>error3count</th>\n",
       "      <th>error4count</th>\n",
       "      <th>error5count</th>\n",
       "      <th>comp1</th>\n",
       "      <th>comp2</th>\n",
       "      <th>comp3</th>\n",
       "      <th>comp4</th>\n",
       "      <th>age</th>\n",
       "      <th>failure</th>\n",
       "      <th>model1</th>\n",
       "      <th>model2</th>\n",
       "      <th>model3</th>\n",
       "      <th>model4</th>\n",
       "    </tr>\n",
       "  </thead>\n",
       "  <tbody>\n",
       "    <tr>\n",
       "      <th>0</th>\n",
       "      <td>0</td>\n",
       "      <td>1</td>\n",
       "      <td>2015-01-02 06:00:00</td>\n",
       "      <td>180.133784</td>\n",
       "      <td>440.608320</td>\n",
       "      <td>94.137969</td>\n",
       "      <td>41.551544</td>\n",
       "      <td>21.322735</td>\n",
       "      <td>48.770512</td>\n",
       "      <td>2.135684</td>\n",
       "      <td>10.037208</td>\n",
       "      <td>169.733809</td>\n",
       "      <td>445.179865</td>\n",
       "      <td>96.797113</td>\n",
       "      <td>40.385160</td>\n",
       "      <td>11.233120</td>\n",
       "      <td>48.717395</td>\n",
       "      <td>10.079880</td>\n",
       "      <td>5.853209</td>\n",
       "      <td>0.0</td>\n",
       "      <td>0.0</td>\n",
       "      <td>0.0</td>\n",
       "      <td>0.0</td>\n",
       "      <td>0.0</td>\n",
       "      <td>20.000</td>\n",
       "      <td>215.000</td>\n",
       "      <td>155.000</td>\n",
       "      <td>170.000</td>\n",
       "      <td>18</td>\n",
       "      <td>none</td>\n",
       "      <td>0</td>\n",
       "      <td>0</td>\n",
       "      <td>1</td>\n",
       "      <td>0</td>\n",
       "    </tr>\n",
       "    <tr>\n",
       "      <th>1</th>\n",
       "      <td>1</td>\n",
       "      <td>1</td>\n",
       "      <td>2015-01-02 09:00:00</td>\n",
       "      <td>176.364293</td>\n",
       "      <td>439.349655</td>\n",
       "      <td>101.553209</td>\n",
       "      <td>36.105580</td>\n",
       "      <td>18.952210</td>\n",
       "      <td>51.329636</td>\n",
       "      <td>13.789279</td>\n",
       "      <td>6.737739</td>\n",
       "      <td>170.614862</td>\n",
       "      <td>446.364859</td>\n",
       "      <td>96.849785</td>\n",
       "      <td>39.736826</td>\n",
       "      <td>12.519402</td>\n",
       "      <td>48.385076</td>\n",
       "      <td>10.171540</td>\n",
       "      <td>6.163231</td>\n",
       "      <td>0.0</td>\n",
       "      <td>0.0</td>\n",
       "      <td>0.0</td>\n",
       "      <td>0.0</td>\n",
       "      <td>0.0</td>\n",
       "      <td>20.125</td>\n",
       "      <td>215.125</td>\n",
       "      <td>155.125</td>\n",
       "      <td>170.125</td>\n",
       "      <td>18</td>\n",
       "      <td>none</td>\n",
       "      <td>0</td>\n",
       "      <td>0</td>\n",
       "      <td>1</td>\n",
       "      <td>0</td>\n",
       "    </tr>\n",
       "    <tr>\n",
       "      <th>2</th>\n",
       "      <td>2</td>\n",
       "      <td>1</td>\n",
       "      <td>2015-01-02 12:00:00</td>\n",
       "      <td>160.384568</td>\n",
       "      <td>424.385316</td>\n",
       "      <td>99.598722</td>\n",
       "      <td>36.094637</td>\n",
       "      <td>13.047080</td>\n",
       "      <td>13.702496</td>\n",
       "      <td>9.988609</td>\n",
       "      <td>1.639962</td>\n",
       "      <td>169.893965</td>\n",
       "      <td>447.009407</td>\n",
       "      <td>97.715600</td>\n",
       "      <td>39.498374</td>\n",
       "      <td>13.370357</td>\n",
       "      <td>42.432317</td>\n",
       "      <td>9.471669</td>\n",
       "      <td>6.195076</td>\n",
       "      <td>0.0</td>\n",
       "      <td>0.0</td>\n",
       "      <td>0.0</td>\n",
       "      <td>0.0</td>\n",
       "      <td>0.0</td>\n",
       "      <td>20.250</td>\n",
       "      <td>215.250</td>\n",
       "      <td>155.250</td>\n",
       "      <td>170.250</td>\n",
       "      <td>18</td>\n",
       "      <td>none</td>\n",
       "      <td>0</td>\n",
       "      <td>0</td>\n",
       "      <td>1</td>\n",
       "      <td>0</td>\n",
       "    </tr>\n",
       "    <tr>\n",
       "      <th>3</th>\n",
       "      <td>3</td>\n",
       "      <td>1</td>\n",
       "      <td>2015-01-02 15:00:00</td>\n",
       "      <td>170.472461</td>\n",
       "      <td>442.933997</td>\n",
       "      <td>102.380586</td>\n",
       "      <td>40.483002</td>\n",
       "      <td>16.642354</td>\n",
       "      <td>56.290447</td>\n",
       "      <td>3.305739</td>\n",
       "      <td>8.854145</td>\n",
       "      <td>171.243444</td>\n",
       "      <td>444.233563</td>\n",
       "      <td>96.666060</td>\n",
       "      <td>40.229370</td>\n",
       "      <td>13.299281</td>\n",
       "      <td>41.346121</td>\n",
       "      <td>8.731229</td>\n",
       "      <td>5.687944</td>\n",
       "      <td>0.0</td>\n",
       "      <td>0.0</td>\n",
       "      <td>0.0</td>\n",
       "      <td>0.0</td>\n",
       "      <td>0.0</td>\n",
       "      <td>20.375</td>\n",
       "      <td>215.375</td>\n",
       "      <td>155.375</td>\n",
       "      <td>170.375</td>\n",
       "      <td>18</td>\n",
       "      <td>none</td>\n",
       "      <td>0</td>\n",
       "      <td>0</td>\n",
       "      <td>1</td>\n",
       "      <td>0</td>\n",
       "    </tr>\n",
       "    <tr>\n",
       "      <th>4</th>\n",
       "      <td>4</td>\n",
       "      <td>1</td>\n",
       "      <td>2015-01-02 18:00:00</td>\n",
       "      <td>163.263806</td>\n",
       "      <td>468.937558</td>\n",
       "      <td>102.726648</td>\n",
       "      <td>40.921802</td>\n",
       "      <td>17.424688</td>\n",
       "      <td>38.680380</td>\n",
       "      <td>9.105775</td>\n",
       "      <td>3.060781</td>\n",
       "      <td>170.792486</td>\n",
       "      <td>448.440437</td>\n",
       "      <td>95.766838</td>\n",
       "      <td>40.055214</td>\n",
       "      <td>13.954518</td>\n",
       "      <td>43.490234</td>\n",
       "      <td>8.061653</td>\n",
       "      <td>5.898069</td>\n",
       "      <td>0.0</td>\n",
       "      <td>0.0</td>\n",
       "      <td>0.0</td>\n",
       "      <td>0.0</td>\n",
       "      <td>0.0</td>\n",
       "      <td>20.500</td>\n",
       "      <td>215.500</td>\n",
       "      <td>155.500</td>\n",
       "      <td>170.500</td>\n",
       "      <td>18</td>\n",
       "      <td>none</td>\n",
       "      <td>0</td>\n",
       "      <td>0</td>\n",
       "      <td>1</td>\n",
       "      <td>0</td>\n",
       "    </tr>\n",
       "  </tbody>\n",
       "</table>\n",
       "</div>"
      ],
      "text/plain": [
       "   Unnamed: 0  machineID             datetime  ...  model2  model3  model4\n",
       "0           0          1  2015-01-02 06:00:00  ...       0       1       0\n",
       "1           1          1  2015-01-02 09:00:00  ...       0       1       0\n",
       "2           2          1  2015-01-02 12:00:00  ...       0       1       0\n",
       "3           3          1  2015-01-02 15:00:00  ...       0       1       0\n",
       "4           4          1  2015-01-02 18:00:00  ...       0       1       0\n",
       "\n",
       "[5 rows x 34 columns]"
      ]
     },
     "execution_count": 5,
     "metadata": {
      "tags": []
     },
     "output_type": "execute_result"
    }
   ],
   "source": [
    "final_dataset.head()"
   ]
  },
  {
   "cell_type": "code",
   "execution_count": 6,
   "metadata": {
    "colab": {},
    "colab_type": "code",
    "id": "sl0Bd-Zup5Pi"
   },
   "outputs": [],
   "source": [
    "final_dataset = final_dataset.drop('Unnamed: 0', axis = 1)"
   ]
  },
  {
   "cell_type": "code",
   "execution_count": 7,
   "metadata": {
    "colab": {
     "base_uri": "https://localhost:8080/",
     "height": 245
    },
    "colab_type": "code",
    "id": "yEXF5axAFjqA",
    "outputId": "2a321e9e-ba36-4f0c-c133-d4c986e37669"
   },
   "outputs": [
    {
     "name": "stdout",
     "output_type": "stream",
     "text": [
      "        machineID            datetime  volt_3H_mean  ...  model2  model3  model4\n",
      "0               1 2015-01-02 06:00:00    180.133784  ...       0       1       0\n",
      "1               1 2015-01-02 09:00:00    176.364293  ...       0       1       0\n",
      "2               1 2015-01-02 12:00:00    160.384568  ...       0       1       0\n",
      "3               1 2015-01-02 15:00:00    170.472461  ...       0       1       0\n",
      "4               1 2015-01-02 18:00:00    163.263806  ...       0       1       0\n",
      "...           ...                 ...           ...  ...     ...     ...     ...\n",
      "291336        100 2015-12-31 18:00:00    177.758754  ...       0       0       1\n",
      "291337        100 2015-12-31 21:00:00    166.078945  ...       0       0       1\n",
      "291338        100 2016-01-01 00:00:00    158.327984  ...       0       0       1\n",
      "291339        100 2016-01-01 03:00:00    170.306956  ...       0       0       1\n",
      "291340        100 2016-01-01 06:00:00    182.525427  ...       0       0       1\n",
      "\n",
      "[291341 rows x 33 columns]\n"
     ]
    }
   ],
   "source": [
    "final_dataset['datetime'] = pd.to_datetime(final_dataset['datetime'], format='%Y-%m-%dT%H:%M:%S')\n",
    "print (final_dataset)"
   ]
  },
  {
   "cell_type": "code",
   "execution_count": 8,
   "metadata": {
    "colab": {},
    "colab_type": "code",
    "id": "VEfRaKbqFmtq"
   },
   "outputs": [],
   "source": [
    "# https://stackoverflow.com/questions/54312802/pandas-convert-from-datetime-to-integer-timestamp\n",
    "final_dataset.datetime = final_dataset.datetime.astype(int) / 10 ** 9 # convert from datetime to integer timestamp"
   ]
  },
  {
   "cell_type": "code",
   "execution_count": 9,
   "metadata": {
    "colab": {},
    "colab_type": "code",
    "id": "Hq3HZJyidcq2"
   },
   "outputs": [],
   "source": [
    "import pickle\n",
    "\n",
    "final = final_dataset.drop(['datetime', 'machineID', 'failure'], axis=1).columns.values\n",
    "\n",
    "filename = '/content/drive/My Drive/PdM data/columns.sav'\n",
    "pickle.dump(final, open(filename, 'wb'))"
   ]
  },
  {
   "cell_type": "code",
   "execution_count": 10,
   "metadata": {
    "colab": {},
    "colab_type": "code",
    "id": "msh25pn0FrNe"
   },
   "outputs": [],
   "source": [
    "# Establish the datetime corresponding to the records that will be used for training and testing.\n",
    "datetime = [[pd.to_datetime('2015-07-31 01:00:00'), pd.to_datetime('2015-08-01 01:00:00')],\n",
    "                   [pd.to_datetime('2015-08-31 01:00:00'), pd.to_datetime('2015-09-01 01:00:00')],\n",
    "                   [pd.to_datetime('2015-09-30 01:00:00'), pd.to_datetime('2015-10-01 01:00:00')],\n",
    "                   [pd.to_datetime('2015-10-30 01:00:00'), pd.to_datetime('2015-11-01 01:00:00')]]"
   ]
  },
  {
   "cell_type": "code",
   "execution_count": 11,
   "metadata": {
    "colab": {},
    "colab_type": "code",
    "id": "Halur2ZkFuWM"
   },
   "outputs": [],
   "source": [
    "X = final_dataset.drop(['datetime', 'machineID', 'failure'], axis=1)\n",
    "y = final_dataset.failure"
   ]
  },
  {
   "cell_type": "code",
   "execution_count": 12,
   "metadata": {
    "colab": {},
    "colab_type": "code",
    "id": "VoupRGHLuq-A"
   },
   "outputs": [],
   "source": [
    "from sklearn.model_selection import train_test_split, TimeSeriesSplit\n",
    "\n",
    "X_train, X_test, y_train, y_test = train_test_split(X, y,test_size=0.2, stratify =final_dataset['failure'])\n",
    "X_train, X_cv, y_train, y_cv = train_test_split(X_train, y_train, test_size=0.2, stratify=y_train)"
   ]
  },
  {
   "cell_type": "code",
   "execution_count": 13,
   "metadata": {
    "colab": {},
    "colab_type": "code",
    "id": "P5ybrepFf-z6"
   },
   "outputs": [],
   "source": [
    "X_train = final_dataset.drop(['datetime', 'machineID', 'failure'], axis =1 ).values\n",
    "\n",
    "y_train = final_dataset.failure.values"
   ]
  },
  {
   "cell_type": "markdown",
   "metadata": {
    "colab_type": "text",
    "id": "dPwiHmvAXDzS"
   },
   "source": [
    "## **Importing \"final_finc_1\"**"
   ]
  },
  {
   "cell_type": "code",
   "execution_count": 16,
   "metadata": {
    "colab": {},
    "colab_type": "code",
    "id": "Pvfuz06jFxpo"
   },
   "outputs": [],
   "source": [
    "def final_func_1(final_dataset):\n",
    "  \"\"\"\n",
    "  Input :: dataframe which consist of raw data\n",
    "\n",
    "  Output :: Predicted values\n",
    "  \"\"\"\n",
    "  start = time()\n",
    "       \n",
    "  ## importing files\n",
    "  column_filename = '/content/drive/My Drive/PdM data/columns.sav'\n",
    "\n",
    "  modelfilename = '/content/drive/My Drive/PdM data/best_model.sav'\n",
    "  ## loading files\n",
    "  final = pickle.load(open(column_filename, 'rb'))\n",
    "  best_model = pickle.load(open(modelfilename,'rb'))\n",
    "      \n",
    "\n",
    "  ##  if input is np.ndarray or list or list of list\n",
    "  if isinstance(final_dataset,(list,np.ndarray)):\n",
    "    X_data = pd.DataFrame(data=final_dataset, columns=final)\n",
    "    \n",
    "  print('Time for Preprocessing and Featursiation is :: {}  sec' .format(time() - start))\n",
    "    \n",
    "  now = time()\n",
    "        \n",
    "  y_pred = best_model.predict(X_data)\n",
    "    \n",
    "  print('Time for inference is :: {}  sec' .format(time() - now))\n",
    "    \n",
    "  return y_pred"
   ]
  },
  {
   "cell_type": "markdown",
   "metadata": {
    "colab_type": "text",
    "id": "N9OxmML381ZO"
   },
   "source": [
    "### **Array of single datapoint**"
   ]
  },
  {
   "cell_type": "code",
   "execution_count": 17,
   "metadata": {
    "colab": {
     "base_uri": "https://localhost:8080/",
     "height": 147
    },
    "colab_type": "code",
    "id": "8zf9jU394PLj",
    "outputId": "f535b1eb-ad44-4339-dac4-a9b3dee19e3f"
   },
   "outputs": [
    {
     "data": {
      "text/plain": [
       "array([180.13378397, 440.60832011,  94.1379695 ,  41.55154363,\n",
       "        21.32273479,  48.77051197,   2.13568373,  10.03720806,\n",
       "       169.7338089 , 445.1798646 ,  96.79711296,  40.38515999,\n",
       "        11.23312028,  48.71739478,  10.07988023,   5.85320856,\n",
       "         0.        ,   0.        ,   0.        ,   0.        ,\n",
       "         0.        ,  20.        , 215.        , 155.        ,\n",
       "       170.        ,  18.        ,   0.        ,   0.        ,\n",
       "         1.        ,   0.        ])"
      ]
     },
     "execution_count": 17,
     "metadata": {
      "tags": []
     },
     "output_type": "execute_result"
    }
   ],
   "source": [
    "X_train[0]"
   ]
  },
  {
   "cell_type": "code",
   "execution_count": 19,
   "metadata": {
    "colab": {
     "base_uri": "https://localhost:8080/",
     "height": 66
    },
    "colab_type": "code",
    "id": "RmY_mSXb9CpJ",
    "outputId": "0486c219-f3cf-4dcf-bcc4-94830974f1e2"
   },
   "outputs": [
    {
     "name": "stdout",
     "output_type": "stream",
     "text": [
      "Time for Preprocessing and Featursiation is :: 0.004076719284057617  sec\n",
      "Time for inference is :: 0.0019092559814453125  sec\n"
     ]
    },
    {
     "data": {
      "text/plain": [
       "array(['none'], dtype=object)"
      ]
     },
     "execution_count": 19,
     "metadata": {
      "tags": []
     },
     "output_type": "execute_result"
    }
   ],
   "source": [
    "final_func_1(X_train[0].reshape(1, - 1))"
   ]
  },
  {
   "cell_type": "code",
   "execution_count": 20,
   "metadata": {
    "colab": {
     "base_uri": "https://localhost:8080/",
     "height": 66
    },
    "colab_type": "code",
    "id": "Yuux4EYyGX-B",
    "outputId": "2ee5dbaf-d880-4778-8bfe-6413f0498183"
   },
   "outputs": [
    {
     "name": "stdout",
     "output_type": "stream",
     "text": [
      "Time for Preprocessing and Featursiation is :: 0.004692792892456055  sec\n",
      "Time for inference is :: 0.04314613342285156  sec\n"
     ]
    },
    {
     "data": {
      "text/plain": [
       "array(['none', 'none', 'none', ..., 'none', 'none', 'none'], dtype=object)"
      ]
     },
     "execution_count": 20,
     "metadata": {
      "tags": []
     },
     "output_type": "execute_result"
    }
   ],
   "source": [
    "final_func_1(X_train)"
   ]
  },
  {
   "cell_type": "markdown",
   "metadata": {
    "colab_type": "text",
    "id": "ARQxFyGt9PNz"
   },
   "source": [
    "## **Importing final_func_2(X,Y)**"
   ]
  },
  {
   "cell_type": "code",
   "execution_count": 21,
   "metadata": {
    "colab": {},
    "colab_type": "code",
    "id": "hGa4TIE-6bbs"
   },
   "outputs": [],
   "source": [
    "def final_func_2(X, Y):\n",
    "    \n",
    "    \"\"\"\n",
    "    Input :: X (Features), Y (Target Values)\n",
    "    \n",
    "    Output :: accuracy_score\n",
    "    \n",
    "    \"\"\"\n",
    "    \n",
    "    return accuracy_score(Y,final_func_1(X))"
   ]
  },
  {
   "cell_type": "code",
   "execution_count": 22,
   "metadata": {
    "colab": {
     "base_uri": "https://localhost:8080/",
     "height": 50
    },
    "colab_type": "code",
    "id": "xsRDUmFT_7bm",
    "outputId": "036c1234-85ec-4385-9a3a-2ef907447e92"
   },
   "outputs": [
    {
     "name": "stdout",
     "output_type": "stream",
     "text": [
      "Time for Preprocessing and Featursiation is :: 0.005970001220703125  sec\n",
      "Time for inference is :: 0.03919839859008789  sec\n"
     ]
    }
   ],
   "source": [
    "y_pred = final_func_1(X_train)"
   ]
  },
  {
   "cell_type": "code",
   "execution_count": 23,
   "metadata": {
    "colab": {
     "base_uri": "https://localhost:8080/",
     "height": 50
    },
    "colab_type": "code",
    "id": "3wNlZ8qAAA_3",
    "outputId": "0e3f508d-fa91-4899-990b-d26acc2fdebc"
   },
   "outputs": [
    {
     "name": "stdout",
     "output_type": "stream",
     "text": [
      "Time for Preprocessing and Featursiation is :: 0.009193897247314453  sec\n",
      "Time for inference is :: 0.045317888259887695  sec\n"
     ]
    }
   ],
   "source": [
    "from sklearn.metrics import accuracy_score\n",
    "\n",
    "accuracy_score_  = final_func_2(X_train, y_train)"
   ]
  },
  {
   "cell_type": "code",
   "execution_count": 24,
   "metadata": {
    "colab": {
     "base_uri": "https://localhost:8080/",
     "height": 33
    },
    "colab_type": "code",
    "id": "fjLOvJsJrAPf",
    "outputId": "352cdf33-e398-426d-d775-6e5bd629cbd3"
   },
   "outputs": [
    {
     "name": "stdout",
     "output_type": "stream",
     "text": [
      "The accuracy_score is ::  0.998620173610992\n"
     ]
    }
   ],
   "source": [
    "print(\"The accuracy_score is :: \",accuracy_score_)"
   ]
  },
  {
   "cell_type": "code",
   "execution_count": 25,
   "metadata": {
    "colab": {
     "base_uri": "https://localhost:8080/",
     "height": 50
    },
    "colab_type": "code",
    "id": "TSw1VsnBrau9",
    "outputId": "5386ce08-c7bb-4900-82ec-ccdcd059afdb"
   },
   "outputs": [
    {
     "name": "stdout",
     "output_type": "stream",
     "text": [
      "Time for Preprocessing and Featursiation is :: 0.006985902786254883  sec\n",
      "Time for inference is :: 0.016889572143554688  sec\n"
     ]
    }
   ],
   "source": [
    "y_pred_test = final_func_1(X_test.values)"
   ]
  }
 ],
 "metadata": {
  "accelerator": "GPU",
  "colab": {
   "name": "final_pred.ipynb",
   "provenance": [],
   "toc_visible": true
  },
  "kernelspec": {
   "display_name": "Python 3",
   "language": "python",
   "name": "python3"
  },
  "language_info": {
   "codemirror_mode": {
    "name": "ipython",
    "version": 3
   },
   "file_extension": ".py",
   "mimetype": "text/x-python",
   "name": "python",
   "nbconvert_exporter": "python",
   "pygments_lexer": "ipython3",
   "version": "3.7.4"
  }
 },
 "nbformat": 4,
 "nbformat_minor": 1
}
